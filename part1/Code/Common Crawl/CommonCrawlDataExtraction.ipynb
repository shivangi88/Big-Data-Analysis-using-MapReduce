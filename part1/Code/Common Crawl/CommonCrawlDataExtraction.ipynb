{
 "cells": [
  {
   "cell_type": "code",
   "execution_count": 169,
   "metadata": {},
   "outputs": [],
   "source": [
    "from warcio.archiveiterator import ArchiveIterator\n",
    "import os\n",
    "counter=0\n",
    "os.chdir('/part1/Data/Common Crawl/')\n",
    "list1=[]\n",
    "with open('CC-MAIN-20190327020750-20190327042750-00558.warc.wet.gz', 'rb') as stream:\n",
    "    for record in ArchiveIterator(stream):\n",
    "        word=str(record.rec_headers.get_header('WARC-Target-URI'))\n",
    "        if (word.find('health-care') != -1):\n",
    "            list1.append(record.content_stream().read().decode('utf-8'))\n",
    "            with open('Mar_cc_558.txt', 'a', encoding='utf8') as f:\n",
    "                for temp in list1:\n",
    "                    f.write(\"%s \" % temp)\n",
    "            counter+=1"
   ]
  }
 ],
 "metadata": {
  "kernelspec": {
   "display_name": "Python 3",
   "language": "python",
   "name": "python3"
  },
  "language_info": {
   "codemirror_mode": {
    "name": "ipython",
    "version": 3
   },
   "file_extension": ".py",
   "mimetype": "text/x-python",
   "name": "python",
   "nbconvert_exporter": "python",
   "pygments_lexer": "ipython3",
   "version": "3.6.5"
  }
 },
 "nbformat": 4,
 "nbformat_minor": 2
}
