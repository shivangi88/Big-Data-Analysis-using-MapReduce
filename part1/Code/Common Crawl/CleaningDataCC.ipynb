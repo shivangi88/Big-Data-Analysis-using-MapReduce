{
 "cells": [
  {
   "cell_type": "code",
   "execution_count": 12,
   "metadata": {},
   "outputs": [
    {
     "name": "stdout",
     "output_type": "stream",
     "text": [
      "<class '_io.BufferedReader'>\n"
     ]
    }
   ],
   "source": [
    "import re \n",
    "from nltk.corpus import stopwords\n",
    "from nltk.corpus import words\n",
    "from nltk.tokenize import word_tokenize \n",
    "from nltk.stem import PorterStemmer\n",
    "from nltk.stem import WordNetLemmatizer\n",
    "#word_tokenize accepts a string as an input, not a file. \n",
    "stop_words = set(stopwords.words('english'))\n",
    "english_words=set(words.words())\n",
    "with open(\"/part1/Data/Common Crawl/Mar_cc_525.txt\",'rb') as file1:\n",
    "    print(type(file1))\n",
    "    line = file1.read().decode('utf-8')# Use this to read file content as a stream: \n",
    "#word = line.split() \n",
    "line1=re.sub(r'\\[^\\d]+', ' ', line)\n",
    "line2=re.sub(r'[_-_]', ' ', line1)\n",
    "line3=re.sub(r'[^\\w]', ' ', line2)\n",
    "line4=re.sub(r'[\\d]*','',line3)\n",
    "sentence=line4.lower()\n",
    "words=word_tokenize(sentence)\n",
    "wn = WordNetLemmatizer()\n",
    "for r in words: \n",
    "    if not r in stop_words:\n",
    "        if (r.isalpha()):\n",
    "            if r in english_words:\n",
    "                wrd=wn.lemmatize(r,'v')\n",
    "                appendFile = open('/part1/Data/Common Crawl/Mar_cc_525_filter.txt','a',encoding='utf8')\n",
    "                appendFile.write(\"%s \" % wrd) \n",
    "                appendFile.close() "
   ]
  },
  {
   "cell_type": "code",
   "execution_count": 2,
   "metadata": {},
   "outputs": [],
   "source": [
    "txt_names = ['Mar_cc_515_filter.txt','Mar_cc_557_filter.txt',\n",
    "             'Mar_cc_559_filter.txt']        \n",
    "with open('/part1/Data/Common Crawl/CommonCrawl_small_data.txt','w') as outf:\n",
    "    for fname in txt_names:\n",
    "        with open(fname) as infile:\n",
    "            outf.write(infile.read())"
   ]
  }
 ],
 "metadata": {
  "kernelspec": {
   "display_name": "Python 3",
   "language": "python",
   "name": "python3"
  },
  "language_info": {
   "codemirror_mode": {
    "name": "ipython",
    "version": 3
   },
   "file_extension": ".py",
   "mimetype": "text/x-python",
   "name": "python",
   "nbconvert_exporter": "python",
   "pygments_lexer": "ipython3",
   "version": "3.6.5"
  }
 },
 "nbformat": 4,
 "nbformat_minor": 2
}
