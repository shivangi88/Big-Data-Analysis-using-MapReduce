{
 "cells": [
  {
   "cell_type": "code",
   "execution_count": 6,
   "metadata": {},
   "outputs": [],
   "source": [
    "text = open(\"Twitter_Small_output_wrdco-occurrence.txt\").readlines()\n",
    "\n",
    "#i = text[1]\n",
    "#l=[]\n",
    "\n",
    "#text1 = text[1:5]\n",
    "#print(text1)\n",
    "q=\"\"\n",
    "z = []\n",
    "\n",
    "for i in text:\n",
    "    j,t = i.split(\"\\t\")\n",
    "    t=t.replace(\"{\",\" \")\n",
    "    t=t.replace(\"}\",\" \")\n",
    "    t=t.replace(\"\\n\",\"\")\n",
    "    k=t.split(\",\")\n",
    "    for i in k:\n",
    "        q = j+i\n",
    "        z.append(q)\n",
    "z\n",
    "\n",
    "for p in z:\n",
    "    app_file = open(\"Twitter_coor_small.csv\",'a')\n",
    "    app_file.write(\"\\n\" + str(p))\n",
    "    app_file.close()"
   ]
  }
 ],
 "metadata": {
  "kernelspec": {
   "display_name": "Python 3",
   "language": "python",
   "name": "python3"
  },
  "language_info": {
   "codemirror_mode": {
    "name": "ipython",
    "version": 3
   },
   "file_extension": ".py",
   "mimetype": "text/x-python",
   "name": "python",
   "nbconvert_exporter": "python",
   "pygments_lexer": "ipython3",
   "version": "3.6.5"
  }
 },
 "nbformat": 4,
 "nbformat_minor": 2
}
